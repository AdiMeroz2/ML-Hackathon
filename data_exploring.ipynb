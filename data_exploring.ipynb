{
 "cells": [
  {
   "cell_type": "code",
   "execution_count": 9,
   "id": "d2d0b7e9",
   "metadata": {},
   "outputs": [],
   "source": [
    "%config Completer.use_jedi = False\n",
    "import pandas as pd\n",
    "import numpy as np\n",
    "import json\n",
    "import re\n",
    "import plotly.graph_objs as go\n",
    "import plotly.express as px\n",
    "from sklearn.linear_model import LinearRegression\n",
    "from sklearn.metrics import mean_squared_error\n",
    "import ast\n",
    "from itertools import chain\n",
    "from collections import ChainMap, Counter"
   ]
  },
  {
   "cell_type": "code",
   "execution_count": 101,
   "id": "58c55d1d",
   "metadata": {},
   "outputs": [],
   "source": [
    "df = pd.read_csv(\"train_test.csv\")\n",
    "\n"
   ]
  },
  {
   "cell_type": "code",
   "execution_count": 10,
   "id": "63a6e1c3",
   "metadata": {},
   "outputs": [],
   "source": [
    "# l = df.genres.apply(ast.literal_eval)\n",
    "cast = df.cast.map(ast.literal_eval, na_action=\"ignore\")\n",
    "cast_dicts = cast.map(lambda l: {d['name']: d for d in l}, na_action=\"ignore\")"
   ]
  },
  {
   "cell_type": "code",
   "execution_count": 83,
   "id": "399d9bfe",
   "metadata": {},
   "outputs": [
    {
     "data": {
      "text/plain": [
       "239"
      ]
     },
     "execution_count": 83,
     "metadata": {},
     "output_type": "execute_result"
    }
   ],
   "source": [
    "cast_values = {d['name']: d for d in chain.from_iterable(cast.dropna())}\n",
    "# cast_values = pd.DataFrame.from_dict(cast.dropna().to_list())\n",
    "# cast_values\n",
    "# cast_values = {**d for d in cast_dicts}\n",
    "# Counter(cast_dicts.to_list())\n",
    "cast_counts = pd.Series(Counter(chain.from_iterable(cast_dicts.dropna().map(lambda d: list(d.keys())))))\n",
    "(counts > 20).sum()"
   ]
  },
  {
   "cell_type": "code",
   "execution_count": 74,
   "id": "ced800f1",
   "metadata": {},
   "outputs": [],
   "source": [
    "cast_df = pd.DataFrame(cast_values).T"
   ]
  },
  {
   "cell_type": "code",
   "execution_count": 102,
   "id": "4e844e79",
   "metadata": {},
   "outputs": [
    {
     "data": {
      "text/plain": [
       "0.16220522398548962"
      ]
     },
     "execution_count": 102,
     "metadata": {},
     "output_type": "execute_result"
    }
   ],
   "source": [
    "cast_df = cast_df.assign(counts=pd.Series(counts))\n",
    "cast_df.groupby('known_for_department').mean()\n",
    "# df.revenue.corr(df.vote_average)"
   ]
  },
  {
   "cell_type": "code",
   "execution_count": 95,
   "id": "f784c3fa",
   "metadata": {},
   "outputs": [],
   "source": [
    "crew = df.crew.map(ast.literal_eval, na_action=\"ignore\")\n",
    "crew_dicts = crew.map(lambda l: {d['name']: d for d in l}, na_action=\"ignore\")\n",
    "crew_values = {d['name']: d for d in chain.from_iterable(crew.dropna())}\n",
    "crew_counts = pd.Series(Counter(chain.from_iterable(crew_dicts.dropna().map(lambda d: list(d.keys())))))\n",
    "crew_df = pd.DataFrame(crew_values).T.assign(counts = counts)\n"
   ]
  },
  {
   "cell_type": "code",
   "execution_count": 98,
   "id": "769a3250",
   "metadata": {},
   "outputs": [
    {
     "data": {
      "text/plain": [
       "array(['Production', 'Acting', 'Sound', 'Art', 'Costume & Make-Up',\n",
       "       'Writing', 'Camera', 'Directing', 'Editing', 'Crew',\n",
       "       'Visual Effects', 'Lighting', 'Creator', 'Actors'], dtype=object)"
      ]
     },
     "execution_count": 98,
     "metadata": {},
     "output_type": "execute_result"
    }
   ],
   "source": [
    "crew_df.known_for_department.unique()"
   ]
  }
 ],
 "metadata": {
  "kernelspec": {
   "display_name": "Python [conda env:iml.env] *",
   "language": "python",
   "name": "conda-env-iml.env-py"
  },
  "language_info": {
   "codemirror_mode": {
    "name": "ipython",
    "version": 3
   },
   "file_extension": ".py",
   "mimetype": "text/x-python",
   "name": "python",
   "nbconvert_exporter": "python",
   "pygments_lexer": "ipython3",
   "version": "3.7.10"
  }
 },
 "nbformat": 4,
 "nbformat_minor": 5
}
