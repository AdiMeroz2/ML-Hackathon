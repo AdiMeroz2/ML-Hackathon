{
 "cells": [
  {
   "cell_type": "code",
   "execution_count": 7,
   "id": "3f6b0222",
   "metadata": {},
   "outputs": [],
   "source": [
    "%config Completer.use_jedi = False\n",
    "\n",
    "from sklearn.tree import DecisionTreeRegressor\n",
    "from sklearn.linear_model import LinearRegression\n",
    "from sklearn.metrics import make_scorer, mean_squared_error\n",
    "from sklearn.model_selection import cross_val_score\n",
    "scorer = make_scorer(mean_squared_error)\n",
    "from parse_file import clean_data\n",
    "import pandas as pd\n",
    "import numpy as np\n",
    "import plotly.graph_objects as go\n",
    "import plotly.express as px\n",
    "from datetime import datetime\n",
    "from sklearn.ensemble import RandomForestRegressor"
   ]
  },
  {
   "cell_type": "code",
   "execution_count": 8,
   "id": "12adfe8e",
   "metadata": {},
   "outputs": [],
   "source": [
    "original_data = pd.read_csv(\"train_test.csv\")\n",
    "processed_data = clean_data(original_data)"
   ]
  },
  {
   "cell_type": "markdown",
   "id": "1f8c6e27",
   "metadata": {},
   "source": [
    "# Decision Trees"
   ]
  },
  {
   "cell_type": "code",
   "execution_count": 9,
   "id": "b8fd142a",
   "metadata": {},
   "outputs": [],
   "source": [
    "x_train = processed_data.drop(columns=[\"revenue\", \"vote_average\"])\n",
    "y_train = processed_data.loc[:,[\"revenue\", \"vote_average\"]]\n",
    "depths = list(range(3, 30))\n",
    "# x_train = x_train.assign(release_date=(datetime.now() - pd.to_datetime(processed_data.release_date)).dt.days)"
   ]
  },
  {
   "cell_type": "code",
   "execution_count": 4,
   "id": "34abff74",
   "metadata": {},
   "outputs": [
    {
     "data": {
      "text/plain": [
       "mean    4.875421e+07\n",
       "std     7.278605e+06\n",
       "dtype: float64"
      ]
     },
     "execution_count": 4,
     "metadata": {},
     "output_type": "execute_result"
    }
   ],
   "source": [
    "errors_both = []\n",
    "errors_revenue = []\n",
    "errors_vote_average = []\n",
    "for m in depths:\n",
    "    tree = DecisionTreeRegressor(max_depth=m, min_samples_leaf=10)\n",
    "    scores = np.sqrt(cross_val_score(tree, x_train, y_train, cv=5, scoring=scorer))\n",
    "    errors_both.append(dict(mean=scores.mean(), std=scores.std()))\n",
    "    scores = np.sqrt(cross_val_score(tree, x_train, y_train.revenue, cv=5, scoring=scorer))\n",
    "    errors_revenue.append(dict(mean=scores.mean(), std=scores.std()))\n",
    "    scores = np.sqrt(cross_val_score(tree, x_train, y_train.vote_average, cv=5, scoring=scorer))\n",
    "    errors_vote_average.append(dict(mean=scores.mean(), std=scores.std()))\n",
    "pd.DataFrame(errors_both).min()"
   ]
  },
  {
   "cell_type": "code",
   "execution_count": 4,
   "id": "8ca2d69a",
   "metadata": {},
   "outputs": [
    {
     "data": {
      "text/plain": [
       "mean    4.855023e+07\n",
       "std     7.474947e+06\n",
       "dtype: float64"
      ]
     },
     "execution_count": 4,
     "metadata": {},
     "output_type": "execute_result"
    }
   ],
   "source": [
    "x_train = x_train.assign(release_date=(datetime.now() - pd.to_datetime(processed_data.release_date)).dt.days)\n",
    "errors_both = []\n",
    "errors_revenue = []\n",
    "errors_vote_average = []\n",
    "for m in depths:\n",
    "    tree = DecisionTreeRegressor(max_depth=m, min_samples_leaf=10)\n",
    "    scores = np.sqrt(cross_val_score(tree, x_train, y_train, cv=5, scoring=scorer))\n",
    "    errors_both.append(dict(mean=scores.mean(), std=scores.std()))\n",
    "    scores = np.sqrt(cross_val_score(tree, x_train, y_train.revenue, cv=5, scoring=scorer))\n",
    "    errors_revenue.append(dict(mean=scores.mean(), std=scores.std()))\n",
    "    scores = np.sqrt(cross_val_score(tree, x_train, y_train.vote_average, cv=5, scoring=scorer))\n",
    "    errors_vote_average.append(dict(mean=scores.mean(), std=scores.std()))\n",
    "pd.DataFrame(errors_both).min()"
   ]
  },
  {
   "cell_type": "code",
   "execution_count": 154,
   "id": "07f92236",
   "metadata": {},
   "outputs": [
    {
     "data": {
      "text/plain": [
       "mean    4.976826e+07\n",
       "std     7.314575e+06\n",
       "dtype: float64"
      ]
     },
     "execution_count": 154,
     "metadata": {},
     "output_type": "execute_result"
    }
   ],
   "source": [
    "errors_both = []\n",
    "errors_revenue = []\n",
    "errors_vote_average = []\n",
    "for m in depths:\n",
    "    forest = RandomForestRegressor(max_depth=m)\n",
    "#     tree = DecisionTreeRegressor(max_depth=m, min_samples_leaf=10)\n",
    "    scores = np.sqrt(cross_val_score(tree, x_train, y_train, cv=5, scoring=scorer))\n",
    "    errors_both.append(dict(mean=scores.mean(), std=scores.std()))\n",
    "    scores = np.sqrt(cross_val_score(tree, x_train, y_train.revenue, cv=5, scoring=scorer))\n",
    "    errors_revenue.append(dict(mean=scores.mean(), std=scores.std()))\n",
    "    scores = np.sqrt(cross_val_score(tree, x_train, y_train.vote_average, cv=5, scoring=scorer))\n",
    "    errors_vote_average.append(dict(mean=scores.mean(), std=scores.std()))\n",
    "pd.DataFrame(errors_both).min()\n",
    "# tree.cost_complexity_pruning_path(x_train, y_train)"
   ]
  },
  {
   "cell_type": "code",
   "execution_count": 10,
   "id": "62441c32",
   "metadata": {},
   "outputs": [
    {
     "name": "stdout",
     "output_type": "stream",
     "text": [
      "mean_both: 45975171.20210832, std_both: 805137504086725.9\n",
      "mean_revenue: 65134406.55556913, std_revenue: 1634649112513080.0\n",
      "mean_vote_avg: 0.6494176772589065, std_revenue: 0.05062828189399104\n"
     ]
    }
   ],
   "source": [
    "forest = RandomForestRegressor()\n",
    "\n",
    "scores_both = cross_val_score(forest, x_train, y_train, scoring=scorer)\n",
    "scores_revenue = cross_val_score(forest, x_train, y_train.revenue, scoring=scorer)\n",
    "scores_vote_avg = cross_val_score(forest, x_train, y_train.vote_average, scoring=scorer)\n",
    "\n",
    "print(f\"mean_both: {np.sqrt(scores_both).mean()}, std_both: {scores_both.std()}\")\n",
    "print(f\"mean_revenue: {np.sqrt(scores_revenue).mean()}, std_revenue: {scores_revenue.std()}\")\n",
    "print(f\"mean_vote_avg: {np.sqrt(scores_vote_avg).mean()}, std_revenue: {scores_vote_avg.std()}\")\n"
   ]
  },
  {
   "cell_type": "markdown",
   "id": "ac78bbaa",
   "metadata": {},
   "source": [
    "# Linear Regression"
   ]
  },
  {
   "cell_type": "code",
   "execution_count": null,
   "id": "b4f1ddfa",
   "metadata": {},
   "outputs": [],
   "source": [
    "ols = LinearRegression()\n",
    "scores = cross_val_score(ols, x_train, y_train, scoring=scorer)\n",
    "np.sqrt(scores).mean()"
   ]
  },
  {
   "cell_type": "markdown",
   "id": "64736d93",
   "metadata": {},
   "source": [
    "45346897.52309336 45575221.67298238"
   ]
  },
  {
   "cell_type": "code",
   "execution_count": 6,
   "id": "ef502b20",
   "metadata": {},
   "outputs": [
    {
     "data": {
      "text/plain": [
       "7972977.034300413"
      ]
     },
     "execution_count": 6,
     "metadata": {},
     "output_type": "execute_result"
    }
   ],
   "source": [
    "np.sqrt(scores).std()"
   ]
  },
  {
   "cell_type": "code",
   "execution_count": 6,
   "id": "4c119cc5",
   "metadata": {},
   "outputs": [
    {
     "data": {
      "text/plain": [
       "-183"
      ]
     },
     "execution_count": 6,
     "metadata": {},
     "output_type": "execute_result"
    }
   ],
   "source": [
    "processed_data.release_date.min()"
   ]
  }
 ],
 "metadata": {
  "kernelspec": {
   "display_name": "Python [conda env:iml.env] *",
   "language": "python",
   "name": "conda-env-iml.env-py"
  },
  "language_info": {
   "codemirror_mode": {
    "name": "ipython",
    "version": 3
   },
   "file_extension": ".py",
   "mimetype": "text/x-python",
   "name": "python",
   "nbconvert_exporter": "python",
   "pygments_lexer": "ipython3",
   "version": "3.7.10"
  }
 },
 "nbformat": 4,
 "nbformat_minor": 5
}
